{
 "cells": [
  {
   "cell_type": "code",
   "execution_count": null,
   "metadata": {},
   "outputs": [],
   "source": [
    "#Code to scrap new data for dataset, written by group(original code)\n",
    "!pip3 install spotipy"
   ]
  },
  {
   "cell_type": "code",
   "execution_count": 4,
   "metadata": {},
   "outputs": [],
   "source": [
    "#ALI'S CODE\n",
    "import spotipy\n",
    "from spotipy.oauth2 import SpotifyClientCredentials\n",
    "cid = 'cd50a99ce21e43bdb0f30bef64f02599'\n",
    "secret = 'ef69fefbf353421c93e1261c240d4294'\n",
    "client_credentials_manager = SpotifyClientCredentials(client_id=cid, client_secret=secret)\n",
    "sp = spotipy.Spotify(client_credentials_manager=client_credentials_manager)"
   ]
  },
  {
   "cell_type": "code",
   "execution_count": 15,
   "metadata": {},
   "outputs": [],
   "source": [
    "#ALI'S CODE\n",
    "import csv\n",
    "\n",
    "playlist_ids = {'37i9dQZF1DX7qK8ma5wgG1':'Sad', '3XQ85blIpls4b6mq3LJDuF':'Energetic', '37i9dQZF1DXdPec7aLTmlC':'Happy', \n",
    "                '37i9dQZF1DWTC99MCpbjP8':'Calm'}\n",
    "data = []\n",
    "\n",
    "for playlist in playlist_ids:\n",
    "    tracks = sp.playlist_tracks(playlist)\n",
    "    for item in tracks['items']:\n",
    "        track = item['track']\n",
    "        meta = sp.track(track['id'])\n",
    "        features = sp.audio_features(track['id'])\n",
    "\n",
    "        # meta\n",
    "        name = meta['name']\n",
    "        album = meta['album']['name']\n",
    "        artist = meta['album']['artists'][0]['name']\n",
    "        release_date = meta['album']['release_date']\n",
    "        length = meta['duration_ms']\n",
    "        popularity = meta['popularity']\n",
    "        ids =  meta['id']\n",
    "\n",
    "        # features\n",
    "        acousticness = features[0]['acousticness']\n",
    "        danceability = features[0]['danceability']\n",
    "        energy = features[0]['energy']\n",
    "        instrumentalness = features[0]['instrumentalness']\n",
    "        liveness = features[0]['liveness']\n",
    "        valence = features[0]['valence']\n",
    "        loudness = features[0]['loudness']\n",
    "        speechiness = features[0]['speechiness']\n",
    "        tempo = features[0]['tempo']\n",
    "        key = features[0]['key']\n",
    "        time_signature = features[0]['time_signature']\n",
    "\n",
    "        #mood\n",
    "        mood = playlist_ids[playlist]\n",
    "        \n",
    "        line = [name, album, artist, ids, release_date, popularity, length, danceability, acousticness,\n",
    "                energy, instrumentalness, liveness, valence, loudness, speechiness, tempo, key, time_signature, mood]\n",
    "        data.append(line)\n",
    "\n",
    "with open('data/data_moods.csv', 'a', encoding='UTF8', newline='') as f:\n",
    "    writer = csv.writer(f)\n",
    "    writer.writerows(data)\n",
    "\n",
    "\n"
   ]
  }
 ],
 "metadata": {
  "kernelspec": {
   "display_name": "base",
   "language": "python",
   "name": "python3"
  },
  "language_info": {
   "codemirror_mode": {
    "name": "ipython",
    "version": 3
   },
   "file_extension": ".py",
   "mimetype": "text/x-python",
   "name": "python",
   "nbconvert_exporter": "python",
   "pygments_lexer": "ipython3",
   "version": "3.9.13"
  },
  "orig_nbformat": 4
 },
 "nbformat": 4,
 "nbformat_minor": 2
}
